{
 "cells": [
  {
   "cell_type": "code",
   "execution_count": 1,
   "id": "136bd75e-7b15-450e-b9eb-7d61e3ca010b",
   "metadata": {},
   "outputs": [
    {
     "name": "stdout",
     "output_type": "stream",
     "text": [
      "Hello this is kartik's branch\n"
     ]
    }
   ],
   "source": [
    "print(\"Hello this is kartik's branch\")"
   ]
  },
  {
   "cell_type": "code",
   "execution_count": null,
   "id": "c6dcc051-3864-4d2c-9230-9e9dad1c65eb",
   "metadata": {},
   "outputs": [],
   "source": []
  }
 ],
 "metadata": {
  "kernelspec": {
   "display_name": "Python 3",
   "language": "python",
   "name": "python3"
  },
  "language_info": {
   "codemirror_mode": {
    "name": "ipython",
    "version": 3
   },
   "file_extension": ".py",
   "mimetype": "text/x-python",
   "name": "python",
   "nbconvert_exporter": "python",
   "pygments_lexer": "ipython3",
   "version": "3.8.8"
  }
 },
 "nbformat": 4,
 "nbformat_minor": 5
}
